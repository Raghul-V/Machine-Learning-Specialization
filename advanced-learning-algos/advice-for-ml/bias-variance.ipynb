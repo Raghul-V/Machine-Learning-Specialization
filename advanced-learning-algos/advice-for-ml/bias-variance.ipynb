{
 "cells": [
  {
   "cell_type": "markdown",
   "metadata": {},
   "source": [
    "#### Kinds of problems\n",
    "\n",
    "- High Bias (underfitting)\n",
    "- High Variance (overfitting)"
   ]
  },
  {
   "cell_type": "markdown",
   "metadata": {},
   "source": [
    "####  You've implemented regularized linear regression on housing prices. But it makes unacceptably large errors in predictions. What do you try next?\n",
    "\n",
    "- Get more training data => `fixing high variance`\n",
    "- Try smaller sets of features => `fixing high variance`\n",
    "- Try getting additional features => `fixing high bias`\n",
    "- Try adding polynomial features (x^2, x^3, x^4, etc) => `fixing high bias`\n",
    "- Try decreasing regularization coeff. lambda => `fixing high bias`\n",
    "- Try increasing regularization coeff. lambda => `fixing high variance`"
   ]
  },
  {
   "cell_type": "code",
   "execution_count": 7,
   "metadata": {},
   "outputs": [],
   "source": [
    "import tensorflow as tf\n",
    "from tensorflow.keras import Sequential\n",
    "from tensorflow.keras.layers import Dense\n",
    "from tensorflow.keras.regularizers import L2\n",
    "\n",
    "# Unregularized model\n",
    "model = Sequential([\n",
    "    Dense(units=25, activation=\"relu\"),\n",
    "    Dense(units=15, activation=\"relu\"),\n",
    "    Dense(units=1, activation=\"sigmoid\"),\n",
    "])\n",
    "\n",
    "# Regularized model\n",
    "model = Sequential([\n",
    "    Dense(units=25, activation=\"relu\", kernel_regularizer=L2(0.01)),\n",
    "    Dense(units=15, activation=\"relu\", kernel_regularizer=L2(0.01)),\n",
    "    Dense(units=1, activation=\"sigmoid\", kernel_regularizer=L2(0.01)),\n",
    "])"
   ]
  },
  {
   "cell_type": "code",
   "execution_count": null,
   "metadata": {},
   "outputs": [],
   "source": []
  }
 ],
 "metadata": {
  "kernelspec": {
   "display_name": "Python 3",
   "language": "python",
   "name": "python3"
  },
  "language_info": {
   "codemirror_mode": {
    "name": "ipython",
    "version": 3
   },
   "file_extension": ".py",
   "mimetype": "text/x-python",
   "name": "python",
   "nbconvert_exporter": "python",
   "pygments_lexer": "ipython3",
   "version": "3.10.5"
  }
 },
 "nbformat": 4,
 "nbformat_minor": 2
}
