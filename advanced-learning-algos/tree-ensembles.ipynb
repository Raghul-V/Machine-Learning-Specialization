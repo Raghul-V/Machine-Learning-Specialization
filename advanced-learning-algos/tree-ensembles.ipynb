{
 "cells": [
  {
   "cell_type": "markdown",
   "metadata": {},
   "source": [
    "### **Tree Ensembles VS Neural Networks**"
   ]
  },
  {
   "cell_type": "markdown",
   "metadata": {},
   "source": [
    "#### When to use tree ensembles and when to use NNs?"
   ]
  },
  {
   "cell_type": "markdown",
   "metadata": {},
   "source": [
    "- **Tree Ensembles**\n",
    "    - Works well on tabular (structured) data\n",
    "    - Not recommended for unstructured data (images, audio, video, text)\n",
    "    - Faster than NN\n",
    "\n",
    "- **Neural Networks**\n",
    "    - Works well on all types of data, both tabular (structured) and unstructured data\n",
    "    - Slower to train than tree ensembles\n",
    "    - Works with transfer learning\n",
    "    - When building a system of multiple models working together, it might be easier to string together multiple neural networks"
   ]
  },
  {
   "cell_type": "code",
   "execution_count": 50,
   "metadata": {},
   "outputs": [
    {
     "name": "stdout",
     "output_type": "stream",
     "text": [
      "Accuracy: 0.9101123595505618\n",
      "Classification Report:\n",
      "               precision    recall  f1-score   support\n",
      "\n",
      "           0       0.93      0.85      0.89        33\n",
      "           1       0.84      0.94      0.89        34\n",
      "           2       1.00      0.95      0.98        22\n",
      "\n",
      "    accuracy                           0.91        89\n",
      "   macro avg       0.93      0.91      0.92        89\n",
      "weighted avg       0.91      0.91      0.91        89\n",
      "\n"
     ]
    }
   ],
   "source": [
    "from sklearn.model_selection import train_test_split\n",
    "\n",
    "from sklearn.ensemble import RandomForestClassifier\n",
    "from sklearn.svm import SVC\n",
    "from xgboost.sklearn import XGBClassifier\n",
    "\n",
    "from sklearn.metrics import accuracy_score, classification_report\n",
    "\n",
    "# _:DATASET1:_\n",
    "# from sklearn.datasets import load_iris\n",
    "\n",
    "# iris = load_iris()\n",
    "# X, y = iris.data, iris.target\n",
    "\n",
    "\n",
    "# _:DATASET2:_\n",
    "# from sklearn.datasets import load_breast_cancer\n",
    "\n",
    "# breast_cancer = load_breast_cancer()\n",
    "# X, y = breast_cancer.data, breast_cancer.target\n",
    "\n",
    "\n",
    "# _:DATASET3:_\n",
    "# from sklearn.datasets import load_digits\n",
    "\n",
    "# digits = load_digits()\n",
    "# X, y = digits.data, digits.target\n",
    "\n",
    "\n",
    "# _:DATASET4:_\n",
    "from sklearn.datasets import load_wine\n",
    "\n",
    "wine = load_wine()\n",
    "X, y = wine.data, wine.target\n",
    "\n",
    "\n",
    "X_train, X_test, y_train, y_test = train_test_split(X, y, test_size=0.5, random_state=42)\n",
    "\n",
    "\n",
    "# _:MODELS:_\n",
    "# classifier = RandomForestClassifier(n_estimators=100, random_state=42)\n",
    "# classifier = SVC(kernel='linear', C=1.0, random_state=42)\n",
    "classifier = XGBClassifier(objective='multi:softmax', num_class=3, random_state=42)\n",
    "\n",
    "\n",
    "# Train the model\n",
    "classifier.fit(X_train, y_train)\n",
    "\n",
    "# Make predictions on the test set\n",
    "predictions = classifier.predict(X_test)\n",
    "\n",
    "# Evaluate the model\n",
    "accuracy = accuracy_score(y_test, predictions)\n",
    "report = classification_report(y_test, predictions)\n",
    "\n",
    "# Display the results\n",
    "print(f\"Accuracy: {accuracy}\")\n",
    "print(\"Classification Report:\\n\", report)\n",
    "\n"
   ]
  }
 ],
 "metadata": {
  "kernelspec": {
   "display_name": "Python 3",
   "language": "python",
   "name": "python3"
  },
  "language_info": {
   "codemirror_mode": {
    "name": "ipython",
    "version": 3
   },
   "file_extension": ".py",
   "mimetype": "text/x-python",
   "name": "python",
   "nbconvert_exporter": "python",
   "pygments_lexer": "ipython3",
   "version": "3.10.5"
  }
 },
 "nbformat": 4,
 "nbformat_minor": 2
}
