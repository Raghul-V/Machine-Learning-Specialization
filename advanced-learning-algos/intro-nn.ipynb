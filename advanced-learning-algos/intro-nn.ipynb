{
 "cells": [
  {
   "cell_type": "markdown",
   "metadata": {},
   "source": [
    "## **Intro to NN with Tensorflow & numpy**"
   ]
  },
  {
   "cell_type": "code",
   "execution_count": 3,
   "metadata": {},
   "outputs": [],
   "source": [
    "import tensorflow as tf\n",
    "from tensorflow.keras import Sequential\n",
    "from tensorflow.keras.layers import Dense\n",
    "import numpy as np"
   ]
  },
  {
   "cell_type": "code",
   "execution_count": 4,
   "metadata": {},
   "outputs": [],
   "source": [
    "model = Sequential([\n",
    "    Dense(units=3, activation=\"relu\"),\n",
    "    Dense(units=1, activation=\"sigmoid\"),\n",
    "    # Dense(units=1, activation=\"softmax\"),\n",
    "])\n",
    "\n",
    "model.compile(optimizer=tf.keras.optimizers.Adam(learning_rate=1e-3),\n",
    "              loss=tf.keras.losses.BinaryCrossentropy(),\n",
    "              metrics=[tf.keras.metrics.BinaryAccuracy(),\n",
    "                       tf.keras.metrics.FalseNegatives()])"
   ]
  },
  {
   "cell_type": "code",
   "execution_count": 5,
   "metadata": {},
   "outputs": [
    {
     "name": "stdout",
     "output_type": "stream",
     "text": [
      "Epoch 1/100\n",
      "1/1 [==============================] - 0s 435ms/step - loss: 41.7145 - binary_accuracy: 0.5000 - false_negatives_1: 2.0000\n",
      "Epoch 2/100\n",
      "1/1 [==============================] - 0s 5ms/step - loss: 41.5773 - binary_accuracy: 0.5000 - false_negatives_1: 2.0000\n",
      "Epoch 3/100\n",
      "1/1 [==============================] - 0s 4ms/step - loss: 41.4402 - binary_accuracy: 0.5000 - false_negatives_1: 2.0000\n",
      "Epoch 4/100\n",
      "1/1 [==============================] - 0s 4ms/step - loss: 41.3034 - binary_accuracy: 0.5000 - false_negatives_1: 2.0000\n",
      "Epoch 5/100\n",
      "1/1 [==============================] - 0s 6ms/step - loss: 41.1668 - binary_accuracy: 0.5000 - false_negatives_1: 2.0000\n",
      "Epoch 6/100\n",
      "1/1 [==============================] - 0s 5ms/step - loss: 41.0305 - binary_accuracy: 0.5000 - false_negatives_1: 2.0000\n",
      "Epoch 7/100\n",
      "1/1 [==============================] - 0s 5ms/step - loss: 40.8944 - binary_accuracy: 0.5000 - false_negatives_1: 2.0000\n",
      "Epoch 8/100\n",
      "1/1 [==============================] - 0s 6ms/step - loss: 40.7585 - binary_accuracy: 0.5000 - false_negatives_1: 2.0000\n",
      "Epoch 9/100\n",
      "1/1 [==============================] - 0s 7ms/step - loss: 40.6229 - binary_accuracy: 0.5000 - false_negatives_1: 2.0000\n",
      "Epoch 10/100\n",
      "1/1 [==============================] - 0s 6ms/step - loss: 40.4876 - binary_accuracy: 0.5000 - false_negatives_1: 2.0000\n",
      "Epoch 11/100\n",
      "1/1 [==============================] - 0s 6ms/step - loss: 40.3525 - binary_accuracy: 0.5000 - false_negatives_1: 2.0000\n",
      "Epoch 12/100\n",
      "1/1 [==============================] - 0s 6ms/step - loss: 40.2177 - binary_accuracy: 0.5000 - false_negatives_1: 2.0000\n",
      "Epoch 13/100\n",
      "1/1 [==============================] - 0s 4ms/step - loss: 40.0832 - binary_accuracy: 0.5000 - false_negatives_1: 2.0000\n",
      "Epoch 14/100\n",
      "1/1 [==============================] - 0s 7ms/step - loss: 39.9489 - binary_accuracy: 0.5000 - false_negatives_1: 2.0000\n",
      "Epoch 15/100\n",
      "1/1 [==============================] - 0s 4ms/step - loss: 39.8149 - binary_accuracy: 0.5000 - false_negatives_1: 2.0000\n",
      "Epoch 16/100\n",
      "1/1 [==============================] - 0s 7ms/step - loss: 39.6811 - binary_accuracy: 0.5000 - false_negatives_1: 2.0000\n",
      "Epoch 17/100\n",
      "1/1 [==============================] - 0s 6ms/step - loss: 39.5477 - binary_accuracy: 0.5000 - false_negatives_1: 2.0000\n",
      "Epoch 18/100\n",
      "1/1 [==============================] - 0s 7ms/step - loss: 39.4145 - binary_accuracy: 0.5000 - false_negatives_1: 2.0000\n",
      "Epoch 19/100\n",
      "1/1 [==============================] - 0s 5ms/step - loss: 39.2816 - binary_accuracy: 0.5000 - false_negatives_1: 2.0000\n",
      "Epoch 20/100\n",
      "1/1 [==============================] - 0s 6ms/step - loss: 39.1490 - binary_accuracy: 0.5000 - false_negatives_1: 2.0000\n",
      "Epoch 21/100\n",
      "1/1 [==============================] - 0s 13ms/step - loss: 39.0167 - binary_accuracy: 0.5000 - false_negatives_1: 2.0000\n",
      "Epoch 22/100\n",
      "1/1 [==============================] - 0s 10ms/step - loss: 38.8847 - binary_accuracy: 0.5000 - false_negatives_1: 2.0000\n",
      "Epoch 23/100\n",
      "1/1 [==============================] - 0s 9ms/step - loss: 38.7530 - binary_accuracy: 0.5000 - false_negatives_1: 2.0000\n",
      "Epoch 24/100\n",
      "1/1 [==============================] - 0s 5ms/step - loss: 38.6215 - binary_accuracy: 0.5000 - false_negatives_1: 2.0000\n",
      "Epoch 25/100\n",
      "1/1 [==============================] - 0s 7ms/step - loss: 38.4904 - binary_accuracy: 0.5000 - false_negatives_1: 2.0000\n",
      "Epoch 26/100\n",
      "1/1 [==============================] - 0s 8ms/step - loss: 38.3596 - binary_accuracy: 0.5000 - false_negatives_1: 2.0000\n",
      "Epoch 27/100\n",
      "1/1 [==============================] - 0s 4ms/step - loss: 38.2290 - binary_accuracy: 0.5000 - false_negatives_1: 2.0000\n",
      "Epoch 28/100\n",
      "1/1 [==============================] - 0s 7ms/step - loss: 38.0988 - binary_accuracy: 0.5000 - false_negatives_1: 2.0000\n",
      "Epoch 29/100\n",
      "1/1 [==============================] - 0s 3ms/step - loss: 37.9689 - binary_accuracy: 0.5000 - false_negatives_1: 2.0000\n",
      "Epoch 30/100\n",
      "1/1 [==============================] - 0s 7ms/step - loss: 37.8392 - binary_accuracy: 0.5000 - false_negatives_1: 2.0000\n",
      "Epoch 31/100\n",
      "1/1 [==============================] - 0s 4ms/step - loss: 37.7099 - binary_accuracy: 0.5000 - false_negatives_1: 2.0000\n",
      "Epoch 32/100\n",
      "1/1 [==============================] - 0s 6ms/step - loss: 37.5809 - binary_accuracy: 0.5000 - false_negatives_1: 2.0000\n",
      "Epoch 33/100\n",
      "1/1 [==============================] - 0s 5ms/step - loss: 37.4522 - binary_accuracy: 0.5000 - false_negatives_1: 2.0000\n",
      "Epoch 34/100\n",
      "1/1 [==============================] - 0s 8ms/step - loss: 37.3238 - binary_accuracy: 0.5000 - false_negatives_1: 2.0000\n",
      "Epoch 35/100\n",
      "1/1 [==============================] - 0s 4ms/step - loss: 37.1957 - binary_accuracy: 0.5000 - false_negatives_1: 2.0000\n",
      "Epoch 36/100\n",
      "1/1 [==============================] - 0s 6ms/step - loss: 37.0680 - binary_accuracy: 0.5000 - false_negatives_1: 2.0000\n",
      "Epoch 37/100\n",
      "1/1 [==============================] - 0s 6ms/step - loss: 36.9405 - binary_accuracy: 0.5000 - false_negatives_1: 2.0000\n",
      "Epoch 38/100\n",
      "1/1 [==============================] - 0s 5ms/step - loss: 36.8134 - binary_accuracy: 0.5000 - false_negatives_1: 2.0000\n",
      "Epoch 39/100\n",
      "1/1 [==============================] - 0s 6ms/step - loss: 36.6865 - binary_accuracy: 0.5000 - false_negatives_1: 2.0000\n",
      "Epoch 40/100\n",
      "1/1 [==============================] - 0s 4ms/step - loss: 36.5600 - binary_accuracy: 0.5000 - false_negatives_1: 2.0000\n",
      "Epoch 41/100\n",
      "1/1 [==============================] - 0s 5ms/step - loss: 36.4338 - binary_accuracy: 0.5000 - false_negatives_1: 2.0000\n",
      "Epoch 42/100\n",
      "1/1 [==============================] - 0s 5ms/step - loss: 36.3079 - binary_accuracy: 0.5000 - false_negatives_1: 2.0000\n",
      "Epoch 43/100\n",
      "1/1 [==============================] - 0s 7ms/step - loss: 36.1823 - binary_accuracy: 0.5000 - false_negatives_1: 2.0000\n",
      "Epoch 44/100\n",
      "1/1 [==============================] - 0s 4ms/step - loss: 36.0571 - binary_accuracy: 0.5000 - false_negatives_1: 2.0000\n",
      "Epoch 45/100\n",
      "1/1 [==============================] - 0s 7ms/step - loss: 35.9321 - binary_accuracy: 0.5000 - false_negatives_1: 2.0000\n",
      "Epoch 46/100\n",
      "1/1 [==============================] - 0s 5ms/step - loss: 35.8075 - binary_accuracy: 0.5000 - false_negatives_1: 2.0000\n",
      "Epoch 47/100\n",
      "1/1 [==============================] - 0s 5ms/step - loss: 35.6832 - binary_accuracy: 0.5000 - false_negatives_1: 2.0000\n",
      "Epoch 48/100\n",
      "1/1 [==============================] - 0s 5ms/step - loss: 35.5592 - binary_accuracy: 0.5000 - false_negatives_1: 2.0000\n",
      "Epoch 49/100\n",
      "1/1 [==============================] - 0s 5ms/step - loss: 35.4355 - binary_accuracy: 0.5000 - false_negatives_1: 2.0000\n",
      "Epoch 50/100\n",
      "1/1 [==============================] - 0s 8ms/step - loss: 35.3121 - binary_accuracy: 0.5000 - false_negatives_1: 2.0000\n",
      "Epoch 51/100\n",
      "1/1 [==============================] - 0s 4ms/step - loss: 35.1891 - binary_accuracy: 0.5000 - false_negatives_1: 2.0000\n",
      "Epoch 52/100\n",
      "1/1 [==============================] - 0s 6ms/step - loss: 35.0663 - binary_accuracy: 0.5000 - false_negatives_1: 2.0000\n",
      "Epoch 53/100\n",
      "1/1 [==============================] - 0s 11ms/step - loss: 34.9439 - binary_accuracy: 0.5000 - false_negatives_1: 2.0000\n",
      "Epoch 54/100\n",
      "1/1 [==============================] - 0s 9ms/step - loss: 34.8218 - binary_accuracy: 0.5000 - false_negatives_1: 2.0000\n",
      "Epoch 55/100\n",
      "1/1 [==============================] - 0s 7ms/step - loss: 34.7000 - binary_accuracy: 0.5000 - false_negatives_1: 2.0000\n",
      "Epoch 56/100\n",
      "1/1 [==============================] - 0s 5ms/step - loss: 34.5785 - binary_accuracy: 0.5000 - false_negatives_1: 2.0000\n",
      "Epoch 57/100\n",
      "1/1 [==============================] - 0s 7ms/step - loss: 34.4574 - binary_accuracy: 0.5000 - false_negatives_1: 2.0000\n",
      "Epoch 58/100\n",
      "1/1 [==============================] - 0s 5ms/step - loss: 34.3365 - binary_accuracy: 0.5000 - false_negatives_1: 2.0000\n",
      "Epoch 59/100\n",
      "1/1 [==============================] - 0s 8ms/step - loss: 34.2160 - binary_accuracy: 0.5000 - false_negatives_1: 2.0000\n",
      "Epoch 60/100\n",
      "1/1 [==============================] - 0s 6ms/step - loss: 34.0958 - binary_accuracy: 0.5000 - false_negatives_1: 2.0000\n",
      "Epoch 61/100\n",
      "1/1 [==============================] - 0s 5ms/step - loss: 33.9759 - binary_accuracy: 0.5000 - false_negatives_1: 2.0000\n",
      "Epoch 62/100\n",
      "1/1 [==============================] - 0s 7ms/step - loss: 33.8563 - binary_accuracy: 0.5000 - false_negatives_1: 2.0000\n",
      "Epoch 63/100\n",
      "1/1 [==============================] - 0s 5ms/step - loss: 33.7370 - binary_accuracy: 0.5000 - false_negatives_1: 2.0000\n",
      "Epoch 64/100\n",
      "1/1 [==============================] - 0s 9ms/step - loss: 33.6180 - binary_accuracy: 0.5000 - false_negatives_1: 2.0000\n",
      "Epoch 65/100\n",
      "1/1 [==============================] - 0s 6ms/step - loss: 33.4994 - binary_accuracy: 0.5000 - false_negatives_1: 2.0000\n",
      "Epoch 66/100\n",
      "1/1 [==============================] - 0s 4ms/step - loss: 33.3810 - binary_accuracy: 0.5000 - false_negatives_1: 2.0000\n",
      "Epoch 67/100\n",
      "1/1 [==============================] - 0s 8ms/step - loss: 33.2630 - binary_accuracy: 0.5000 - false_negatives_1: 2.0000\n",
      "Epoch 68/100\n",
      "1/1 [==============================] - 0s 6ms/step - loss: 33.1452 - binary_accuracy: 0.5000 - false_negatives_1: 2.0000\n",
      "Epoch 69/100\n",
      "1/1 [==============================] - 0s 6ms/step - loss: 33.0278 - binary_accuracy: 0.5000 - false_negatives_1: 2.0000\n",
      "Epoch 70/100\n",
      "1/1 [==============================] - 0s 8ms/step - loss: 32.9107 - binary_accuracy: 0.5000 - false_negatives_1: 2.0000\n",
      "Epoch 71/100\n",
      "1/1 [==============================] - 0s 5ms/step - loss: 32.7939 - binary_accuracy: 0.5000 - false_negatives_1: 2.0000\n",
      "Epoch 72/100\n",
      "1/1 [==============================] - 0s 5ms/step - loss: 32.6775 - binary_accuracy: 0.5000 - false_negatives_1: 2.0000\n",
      "Epoch 73/100\n",
      "1/1 [==============================] - 0s 5ms/step - loss: 32.5613 - binary_accuracy: 0.5000 - false_negatives_1: 2.0000\n",
      "Epoch 74/100\n",
      "1/1 [==============================] - 0s 4ms/step - loss: 32.4454 - binary_accuracy: 0.5000 - false_negatives_1: 2.0000\n",
      "Epoch 75/100\n",
      "1/1 [==============================] - 0s 7ms/step - loss: 32.3299 - binary_accuracy: 0.5000 - false_negatives_1: 2.0000\n",
      "Epoch 76/100\n",
      "1/1 [==============================] - 0s 10ms/step - loss: 32.2146 - binary_accuracy: 0.5000 - false_negatives_1: 2.0000\n",
      "Epoch 77/100\n",
      "1/1 [==============================] - 0s 5ms/step - loss: 32.0997 - binary_accuracy: 0.5000 - false_negatives_1: 2.0000\n",
      "Epoch 78/100\n",
      "1/1 [==============================] - 0s 5ms/step - loss: 31.9850 - binary_accuracy: 0.5000 - false_negatives_1: 2.0000\n",
      "Epoch 79/100\n",
      "1/1 [==============================] - 0s 5ms/step - loss: 31.8707 - binary_accuracy: 0.5000 - false_negatives_1: 2.0000\n",
      "Epoch 80/100\n",
      "1/1 [==============================] - 0s 4ms/step - loss: 31.7567 - binary_accuracy: 0.5000 - false_negatives_1: 2.0000\n",
      "Epoch 81/100\n",
      "1/1 [==============================] - 0s 6ms/step - loss: 31.6429 - binary_accuracy: 0.5000 - false_negatives_1: 2.0000\n",
      "Epoch 82/100\n",
      "1/1 [==============================] - 0s 10ms/step - loss: 31.5295 - binary_accuracy: 0.5000 - false_negatives_1: 2.0000\n",
      "Epoch 83/100\n",
      "1/1 [==============================] - 0s 7ms/step - loss: 31.4164 - binary_accuracy: 0.5000 - false_negatives_1: 2.0000\n",
      "Epoch 84/100\n",
      "1/1 [==============================] - 0s 5ms/step - loss: 31.3036 - binary_accuracy: 0.5000 - false_negatives_1: 2.0000\n",
      "Epoch 85/100\n",
      "1/1 [==============================] - 0s 5ms/step - loss: 31.1911 - binary_accuracy: 0.5000 - false_negatives_1: 2.0000\n",
      "Epoch 86/100\n",
      "1/1 [==============================] - 0s 3ms/step - loss: 31.0789 - binary_accuracy: 0.5000 - false_negatives_1: 2.0000\n",
      "Epoch 87/100\n",
      "1/1 [==============================] - 0s 4ms/step - loss: 30.9670 - binary_accuracy: 0.5000 - false_negatives_1: 2.0000\n",
      "Epoch 88/100\n",
      "1/1 [==============================] - 0s 8ms/step - loss: 30.8554 - binary_accuracy: 0.5000 - false_negatives_1: 2.0000\n",
      "Epoch 89/100\n",
      "1/1 [==============================] - 0s 7ms/step - loss: 30.7441 - binary_accuracy: 0.5000 - false_negatives_1: 2.0000\n",
      "Epoch 90/100\n",
      "1/1 [==============================] - 0s 5ms/step - loss: 30.6331 - binary_accuracy: 0.5000 - false_negatives_1: 2.0000\n",
      "Epoch 91/100\n",
      "1/1 [==============================] - 0s 7ms/step - loss: 30.5224 - binary_accuracy: 0.5000 - false_negatives_1: 2.0000\n",
      "Epoch 92/100\n",
      "1/1 [==============================] - 0s 4ms/step - loss: 30.4120 - binary_accuracy: 0.5000 - false_negatives_1: 2.0000\n",
      "Epoch 93/100\n",
      "1/1 [==============================] - 0s 9ms/step - loss: 30.3019 - binary_accuracy: 0.5000 - false_negatives_1: 2.0000\n",
      "Epoch 94/100\n",
      "1/1 [==============================] - 0s 5ms/step - loss: 30.1921 - binary_accuracy: 0.5000 - false_negatives_1: 2.0000\n",
      "Epoch 95/100\n",
      "1/1 [==============================] - 0s 8ms/step - loss: 30.0826 - binary_accuracy: 0.5000 - false_negatives_1: 2.0000\n",
      "Epoch 96/100\n",
      "1/1 [==============================] - 0s 6ms/step - loss: 29.9734 - binary_accuracy: 0.5000 - false_negatives_1: 2.0000\n",
      "Epoch 97/100\n",
      "1/1 [==============================] - 0s 4ms/step - loss: 29.8645 - binary_accuracy: 0.5000 - false_negatives_1: 2.0000\n",
      "Epoch 98/100\n",
      "1/1 [==============================] - 0s 4ms/step - loss: 29.7559 - binary_accuracy: 0.5000 - false_negatives_1: 2.0000\n",
      "Epoch 99/100\n",
      "1/1 [==============================] - 0s 6ms/step - loss: 29.6476 - binary_accuracy: 0.5000 - false_negatives_1: 2.0000\n",
      "Epoch 100/100\n",
      "1/1 [==============================] - 0s 4ms/step - loss: 29.5396 - binary_accuracy: 0.5000 - false_negatives_1: 2.0000\n"
     ]
    },
    {
     "data": {
      "text/plain": [
       "<keras.callbacks.History at 0x22ef081efb0>"
      ]
     },
     "execution_count": 5,
     "metadata": {},
     "output_type": "execute_result"
    }
   ],
   "source": [
    "X = np.array([[200, 17], [120, 5], [425, 20], [212, 18]])\n",
    "y = np.array([1, 0, 0, 1])\n",
    "\n",
    "model.fit(X, y, epochs=100)"
   ]
  },
  {
   "cell_type": "code",
   "execution_count": 8,
   "metadata": {},
   "outputs": [
    {
     "name": "stdout",
     "output_type": "stream",
     "text": [
      "1/1 [==============================] - 0s 24ms/step\n"
     ]
    },
    {
     "data": {
      "text/plain": [
       "array([[5.78366e-20]], dtype=float32)"
      ]
     },
     "execution_count": 8,
     "metadata": {},
     "output_type": "execute_result"
    }
   ],
   "source": [
    "model.predict([[150, 10]])"
   ]
  },
  {
   "cell_type": "markdown",
   "metadata": {},
   "source": [
    "## **Vectorization**"
   ]
  },
  {
   "cell_type": "code",
   "execution_count": 9,
   "metadata": {},
   "outputs": [
    {
     "data": {
      "text/plain": [
       "array([[0.99908895, 0.99999989, 0.99999996],\n",
       "       [0.99908895, 0.99999989, 0.99999996],\n",
       "       [0.99908895, 0.99999989, 0.99999996]])"
      ]
     },
     "execution_count": 9,
     "metadata": {},
     "output_type": "execute_result"
    }
   ],
   "source": [
    "def forward_prop(X, W, B):\n",
    "    z = np.matmul(X, W.T) + B\n",
    "    return 1 / (1 + np.e**(-z))\n",
    "\n",
    "forward_prop(\n",
    "    X=np.array([[1, 2, 3], [1, 2, 3], [1, 2, 3]]), \n",
    "    W=np.array([[1, 1, 1], [1, 2, 3], [1, 2, 3]]), \n",
    "    B=np.array([[1, 2, 3]]))"
   ]
  },
  {
   "cell_type": "markdown",
   "metadata": {},
   "source": [
    "## **Softmax Activation**"
   ]
  },
  {
   "cell_type": "markdown",
   "metadata": {},
   "source": [
    "### **Naive Way that works**"
   ]
  },
  {
   "cell_type": "code",
   "execution_count": 13,
   "metadata": {},
   "outputs": [],
   "source": [
    "model = Sequential([\n",
    "    Dense(units=25, activation=\"relu\"),\n",
    "    Dense(units=15, activation=\"relu\"),\n",
    "    Dense(units=5, activation=\"softmax\"),\n",
    "])\n",
    "\n",
    "model.compile(optimizer=tf.keras.optimizers.Adam(learning_rate=1e-3), \n",
    "              loss=tf.keras.losses.SparseCategoricalCrossentropy())\n"
   ]
  },
  {
   "cell_type": "markdown",
   "metadata": {},
   "source": [
    "### **Recommended Equivalent With Less Numerical Roundoff Errors**"
   ]
  },
  {
   "cell_type": "code",
   "execution_count": null,
   "metadata": {},
   "outputs": [],
   "source": [
    "model = Sequential([\n",
    "    Dense(units=25, activation=\"relu\"),\n",
    "    Dense(units=15, activation=\"relu\"),\n",
    "    Dense(units=5, activation=\"linear\"),\n",
    "])\n",
    "\n",
    "model.compile(optimizer=tf.keras.optimizers.Adam(learning_rate=1e-3), \n",
    "              loss=tf.keras.losses.SparseCategoricalCrossentropy(from_logits=True))"
   ]
  },
  {
   "cell_type": "markdown",
   "metadata": {},
   "source": [
    "## **Probability Analysis (irrelevent to this file)**"
   ]
  },
  {
   "cell_type": "code",
   "execution_count": 19,
   "metadata": {},
   "outputs": [
    {
     "data": {
      "text/plain": [
       "0.24969"
      ]
     },
     "execution_count": 19,
     "metadata": {},
     "output_type": "execute_result"
    }
   ],
   "source": [
    "import numpy as np\n",
    "\n",
    "np.average(np.random.choice(4, (100000,)) == np.random.choice(4, (100000,)))\n",
    "# np.average(np.random.choice(4, (100000,)) == 0)\n"
   ]
  }
 ],
 "metadata": {
  "kernelspec": {
   "display_name": "Python 3",
   "language": "python",
   "name": "python3"
  },
  "language_info": {
   "codemirror_mode": {
    "name": "ipython",
    "version": 3
   },
   "file_extension": ".py",
   "mimetype": "text/x-python",
   "name": "python",
   "nbconvert_exporter": "python",
   "pygments_lexer": "ipython3",
   "version": "3.10.5"
  }
 },
 "nbformat": 4,
 "nbformat_minor": 2
}
