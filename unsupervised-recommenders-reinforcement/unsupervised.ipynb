{
 "cells": [
  {
   "cell_type": "markdown",
   "metadata": {},
   "source": [
    "#### Unsupervised Learning"
   ]
  },
  {
   "cell_type": "markdown",
   "metadata": {},
   "source": [
    "- Clustering\n",
    "- Anomaly detection (finding unusual events)\n",
    "\t- when to use anomaly detection and when to use supervised learning:\n",
    "\t- when you have a large no.of positive and negative dataset you can use supervised learning which classifies new data which looks similar to previous dataset.\n",
    "\t- but when you don't know how an unusual event would look like and you don't have enough dataset for your model to show how an unusual event would look like, Anomaly detection works best.\n"
   ]
  },
  {
   "cell_type": "code",
   "execution_count": null,
   "metadata": {},
   "outputs": [],
   "source": []
  }
 ],
 "metadata": {
  "language_info": {
   "name": "python"
  }
 },
 "nbformat": 4,
 "nbformat_minor": 2
}
